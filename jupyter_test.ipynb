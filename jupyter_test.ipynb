{
 "cells": [
  {
   "cell_type": "code",
   "execution_count": null,
   "metadata": {
    "collapsed": true
   },
   "outputs": [],
   "source": [
    "# My program is highly likely to return true or part true becasue the Internet is full of not true things and in these day's\n",
    "# we can be easly effected by fake news. The problem of this thas is that the truth is not messureable so it was hard to \n",
    "# recognise the problem. Some of my firends decided to take care about one topic but I didn't wanted to drop my work altho \n",
    "# it returned more statemnts as true. \n",
    "# It proviedes second functionality: finding more true statement.\n",
    "# But in some cases my program can be use as spell checker also so i think its a big plus :)"
   ]
  },
  {
   "cell_type": "code",
   "execution_count": 3,
   "metadata": {},
   "outputs": [
    {
     "name": "stdout",
     "output_type": "stream",
     "text": [
      "Couldn't connect to: http://www.globalresearch.ca/the-big-lie-obama-did-not-kill-bin-laden/5448927\n",
      "Request status code: 403\n",
      "Report for statement: Obama is not dead\n",
      "---------------------------------------\n",
      "The truth ratio for: Obama is not dead is: 1.0\n",
      "This means that this statement is: higly likely to be true. \n",
      "Found this phrase at page: http://en.mediamass.net/people/barack-obama/deathhoax.html\n",
      "Short info from page: On Saturday (June 03) the politician's reps officially confirmed that Barack \n",
      "Obama is not dead. “He joins the long list of celebrities who have been victimized \n",
      "by ...\n"
     ]
    },
    {
     "data": {
      "text/plain": [
       "1.0"
      ]
     },
     "execution_count": 3,
     "metadata": {},
     "output_type": "execute_result"
    }
   ],
   "source": [
    "from truth_validator_base_on_google_serach.search import prepare_search_and_return\n",
    "prepare_search_and_return(\"Obama is not dead\")"
   ]
  },
  {
   "cell_type": "code",
   "execution_count": 7,
   "metadata": {},
   "outputs": [
    {
     "name": "stdout",
     "output_type": "stream",
     "text": [
      "Couldn't connect to: http://www.huffingtonpost.com/entry/president-obama-mourns-the-death-of-juan-gabriel_us_57c5a952e4b0664f13caa64a\n",
      "Request status code: 403\n",
      "Report for statement: Obama is huhu dead\n",
      "----------------------------------------\n",
      "Statement that can be more real: Obama is dead\n",
      "The truth ratio for: Obama is huhu dead is: 0.375\n",
      "This means that this statement is: probably false but really not sure.\n"
     ]
    },
    {
     "data": {
      "text/plain": [
       "0.375"
      ]
     },
     "execution_count": 7,
     "metadata": {},
     "output_type": "execute_result"
    }
   ],
   "source": [
    "from truth_validator_base_on_google_serach.search import prepare_search_and_return\n",
    "prepare_search_and_return(\"Obama is huhu dead\")"
   ]
  },
  {
   "cell_type": "code",
   "execution_count": null,
   "metadata": {
    "collapsed": true
   },
   "outputs": [],
   "source": [
    "# Here above is this hide functionality"
   ]
  }
 ],
 "metadata": {
  "kernelspec": {
   "display_name": "Python 3",
   "language": "python",
   "name": "python3"
  },
  "language_info": {
   "codemirror_mode": {
    "name": "ipython",
    "version": 3
   },
   "file_extension": ".py",
   "mimetype": "text/x-python",
   "name": "python",
   "nbconvert_exporter": "python",
   "pygments_lexer": "ipython3",
   "version": "3.6.1"
  }
 },
 "nbformat": 4,
 "nbformat_minor": 2
}
